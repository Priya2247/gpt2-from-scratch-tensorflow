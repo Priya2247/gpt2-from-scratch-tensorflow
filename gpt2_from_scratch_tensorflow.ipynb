{
  "nbformat": 4,
  "nbformat_minor": 0,
  "metadata": {
    "colab": {
      "provenance": []
    },
    "kernelspec": {
      "name": "python3",
      "display_name": "Python 3"
    },
    "language_info": {
      "name": "python"
    }
  },
  "cells": [
    {
      "cell_type": "code",
      "execution_count": 29,
      "metadata": {
        "id": "sXOIJl-CM_vk"
      },
      "outputs": [],
      "source": [
        "import tensorflow as tf\n",
        "from tensorflow.keras.layers import Layer,Embedding,Dense,LayerNormalization,Dropout\n",
        "from tensorflow.keras import Model"
      ]
    },
    {
      "cell_type": "code",
      "source": [
        "class MultiHeadSelfAttention(Layer):\n",
        "    def __init__(self,d_model,num_heads):\n",
        "        super().__init__()\n",
        "        self.d_model=d_model\n",
        "        self.num_heads=num_heads\n",
        "        self.alt_head=d_model//num_heads\n",
        "        self.wq=Dense(d_model)\n",
        "        self.wk=Dense(d_model)\n",
        "        self.wv=Dense(d_model)\n",
        "\n",
        "        self.dense=Dense(d_model)\n",
        "    def split_heads(self,x,batch_size):\n",
        "        x=tf.reshape(x,(batch_size,-1,self.num_heads,self.alt_head))\n",
        "        return tf.transpose(x,perm=[0,2,1,3])\n",
        "\n",
        "    def call(self,q,k,v,mask):\n",
        "        batch_size=tf.shape(q)[0]\n",
        "        q=self.split_heads(self.wq(q),batch_size)\n",
        "        k=self.split_heads(self.wk(k),batch_size)\n",
        "        v=self.split_heads(self.wv(v),batch_size)\n",
        "        mat_mul=tf.matmul(q,k,transpose_b=True)\n",
        "        scaled_attention_logits=mat_mul/tf.math.sqrt(tf.cast(self.alt_head,tf.float32))\n",
        "\n",
        "        if mask is not None:\n",
        "           scaled_attention_logits+=(mask*-1e9)\n",
        "        attention_weights=tf.nn.softmax(scaled_attention_logits,axis=-1)\n",
        "        scaled_attention=tf.matmul(attention_weights,v)\n",
        "        scaled_attention=tf.transpose(scaled_attention,perm=[0,2,1,3])\n",
        "        concat_attention=tf.reshape(scaled_attention,(batch_size,-1,self.d_model))\n",
        "        output=self.dense(concat_attention)\n",
        "        return output"
      ],
      "metadata": {
        "id": "l_b0v0bgNkdU"
      },
      "execution_count": 30,
      "outputs": []
    },
    {
      "cell_type": "code",
      "source": [
        "class FeedForward(Layer):\n",
        "    def __init__(self,d_model,dff,dropout_rate=0.1):\n",
        "        super().__init__()\n",
        "        self.dense1=Dense(dff,activation='gelu')\n",
        "        self.dense2=Dense(d_model)\n",
        "        self.dropout=Dropout(dropout_rate)\n",
        "    def call(self,x):\n",
        "      return self.dense2(self.dense1(x))"
      ],
      "metadata": {
        "id": "Mlk50U8ouhte"
      },
      "execution_count": 31,
      "outputs": []
    },
    {
      "cell_type": "code",
      "source": [
        "class TransformBlock(Layer):\n",
        "  def __init__(self,d_model,num_heads,dff,dropout_rate=0.1):\n",
        "    super().__init__()\n",
        "    self.att=MultiHeadSelfAttention(d_model,num_heads)\n",
        "    self.ffn=FeedForward(d_model,dff)\n",
        "    self.norm1=LayerNormalization(epsilon=1e-6)\n",
        "    self.norm2=LayerNormalization(epsilon=1e-6)\n",
        "    self.dropout1=Dropout(dropout_rate)\n",
        "    self.dropout2=Dropout(dropout_rate)\n",
        "\n",
        "  def call(self,x,mask=None):\n",
        "    attn_output=self.att(x,x,x,mask)\n",
        "    attn_output=self.dropout1(attn_output)\n",
        "    out1=self.norm1(x+attn_output)\n",
        "    ffn_output=self.ffn(out1)\n",
        "    ffn_output=self.dropout2(ffn_output)\n",
        "    return self.norm2(out1+ffn_output)"
      ],
      "metadata": {
        "id": "SRocmMAuwyK8"
      },
      "execution_count": 32,
      "outputs": []
    },
    {
      "cell_type": "code",
      "source": [
        "class GPT2(Model):\n",
        "  def __init__(self,vocab_size,num_layers,d_model,num_heads,dff,dropout_rate=0.1):\n",
        "    super().__init__()\n",
        "    self.token_emb=Embedding(vocab_size,d_model)\n",
        "    self.pos_emb=Embedding(vocab_size,d_model)\n",
        "\n",
        "    self.TransformBlock=[TransformBlock(d_model,num_heads,dff,dropout_rate) for __ in range(num_layers)]\n",
        "    self.norm=LayerNormalization(epsilon=1e-6)\n",
        "    self.dropout=Dropout(dropout_rate)\n",
        "    self.out = Dense(vocab_size)\n",
        "\n",
        "\n",
        "\n",
        "  def create_casual_mask(self, seq_len):\n",
        "    mask=1-tf.linalg.band_part(tf.ones((seq_len,seq_len)),-1,0)\n",
        "    return mask\n",
        "\n",
        "\n",
        "  def call(self,x):\n",
        "    seq_len=tf.shape(x)[1]\n",
        "    mask=self.create_casual_mask(seq_len)\n",
        "\n",
        "    token_embeddings=self.token_emb(x)\n",
        "    pos_embeddings=self.pos_emb(tf.range(seq_len)[:,tf.newaxis])\n",
        "    x=token_embeddings+pos_embeddings\n",
        "    x=self.dropout(x)\n",
        "\n",
        "    for transformer in self.TransformBlock:\n",
        "      x=transformer(x,mask)\n",
        "\n",
        "    x=self.norm(x)\n",
        "    return self.out(x)"
      ],
      "metadata": {
        "id": "IUFy4MkwxtNF"
      },
      "execution_count": 33,
      "outputs": []
    },
    {
      "cell_type": "code",
      "source": [
        "vocab_size=50257\n",
        "max_length=1024\n",
        "\n",
        "d_model = 768\n",
        "num_heads = 12\n",
        "dff = 3072\n",
        "num_layers = 12\n",
        "\n",
        "inputs=tf.keras.layers.Input(shape=(max_length,), dtype=tf.int32)\n",
        "outputs=GPT2(vocab_size=vocab_size, num_layers=num_layers, d_model=d_model, num_heads=num_heads, dff=dff)(inputs)\n",
        "gpt2=Model(inputs,outputs)\n",
        "\n",
        "gpt2.build(input_shape=(1,max_length))\n",
        "gpt2.summary()"
      ],
      "metadata": {
        "colab": {
          "base_uri": "https://localhost:8080/",
          "height": 193
        },
        "id": "EJBvXUptze6A",
        "outputId": "46f34a99-577f-48ea-e17d-cc813b660080"
      },
      "execution_count": 34,
      "outputs": [
        {
          "output_type": "display_data",
          "data": {
            "text/plain": [
              "\u001b[1mModel: \"functional_2\"\u001b[0m\n"
            ],
            "text/html": [
              "<pre style=\"white-space:pre;overflow-x:auto;line-height:normal;font-family:Menlo,'DejaVu Sans Mono',consolas,'Courier New',monospace\"><span style=\"font-weight: bold\">Model: \"functional_2\"</span>\n",
              "</pre>\n"
            ]
          },
          "metadata": {}
        },
        {
          "output_type": "display_data",
          "data": {
            "text/plain": [
              "┏━━━━━━━━━━━━━━━━━━━━━━━━━━━━━━━━━┳━━━━━━━━━━━━━━━━━━━━━━━━┳━━━━━━━━━━━━━━━┓\n",
              "┃\u001b[1m \u001b[0m\u001b[1mLayer (type)                   \u001b[0m\u001b[1m \u001b[0m┃\u001b[1m \u001b[0m\u001b[1mOutput Shape          \u001b[0m\u001b[1m \u001b[0m┃\u001b[1m \u001b[0m\u001b[1m      Param #\u001b[0m\u001b[1m \u001b[0m┃\n",
              "┡━━━━━━━━━━━━━━━━━━━━━━━━━━━━━━━━━╇━━━━━━━━━━━━━━━━━━━━━━━━╇━━━━━━━━━━━━━━━┩\n",
              "│ input_layer_5 (\u001b[38;5;33mInputLayer\u001b[0m)      │ (\u001b[38;5;45mNone\u001b[0m, \u001b[38;5;34m1024\u001b[0m)           │             \u001b[38;5;34m0\u001b[0m │\n",
              "├─────────────────────────────────┼────────────────────────┼───────────────┤\n",
              "│ gpt2_3 (\u001b[38;5;33mGPT2\u001b[0m)                   │ (\u001b[38;5;34m1024\u001b[0m, \u001b[38;5;34m1024\u001b[0m, \u001b[38;5;34m50257\u001b[0m)    │   \u001b[38;5;34m200,898,385\u001b[0m │\n",
              "└─────────────────────────────────┴────────────────────────┴───────────────┘\n"
            ],
            "text/html": [
              "<pre style=\"white-space:pre;overflow-x:auto;line-height:normal;font-family:Menlo,'DejaVu Sans Mono',consolas,'Courier New',monospace\">┏━━━━━━━━━━━━━━━━━━━━━━━━━━━━━━━━━┳━━━━━━━━━━━━━━━━━━━━━━━━┳━━━━━━━━━━━━━━━┓\n",
              "┃<span style=\"font-weight: bold\"> Layer (type)                    </span>┃<span style=\"font-weight: bold\"> Output Shape           </span>┃<span style=\"font-weight: bold\">       Param # </span>┃\n",
              "┡━━━━━━━━━━━━━━━━━━━━━━━━━━━━━━━━━╇━━━━━━━━━━━━━━━━━━━━━━━━╇━━━━━━━━━━━━━━━┩\n",
              "│ input_layer_5 (<span style=\"color: #0087ff; text-decoration-color: #0087ff\">InputLayer</span>)      │ (<span style=\"color: #00d7ff; text-decoration-color: #00d7ff\">None</span>, <span style=\"color: #00af00; text-decoration-color: #00af00\">1024</span>)           │             <span style=\"color: #00af00; text-decoration-color: #00af00\">0</span> │\n",
              "├─────────────────────────────────┼────────────────────────┼───────────────┤\n",
              "│ gpt2_3 (<span style=\"color: #0087ff; text-decoration-color: #0087ff\">GPT2</span>)                   │ (<span style=\"color: #00af00; text-decoration-color: #00af00\">1024</span>, <span style=\"color: #00af00; text-decoration-color: #00af00\">1024</span>, <span style=\"color: #00af00; text-decoration-color: #00af00\">50257</span>)    │   <span style=\"color: #00af00; text-decoration-color: #00af00\">200,898,385</span> │\n",
              "└─────────────────────────────────┴────────────────────────┴───────────────┘\n",
              "</pre>\n"
            ]
          },
          "metadata": {}
        },
        {
          "output_type": "display_data",
          "data": {
            "text/plain": [
              "\u001b[1m Total params: \u001b[0m\u001b[38;5;34m200,898,385\u001b[0m (766.37 MB)\n"
            ],
            "text/html": [
              "<pre style=\"white-space:pre;overflow-x:auto;line-height:normal;font-family:Menlo,'DejaVu Sans Mono',consolas,'Courier New',monospace\"><span style=\"font-weight: bold\"> Total params: </span><span style=\"color: #00af00; text-decoration-color: #00af00\">200,898,385</span> (766.37 MB)\n",
              "</pre>\n"
            ]
          },
          "metadata": {}
        },
        {
          "output_type": "display_data",
          "data": {
            "text/plain": [
              "\u001b[1m Trainable params: \u001b[0m\u001b[38;5;34m200,898,385\u001b[0m (766.37 MB)\n"
            ],
            "text/html": [
              "<pre style=\"white-space:pre;overflow-x:auto;line-height:normal;font-family:Menlo,'DejaVu Sans Mono',consolas,'Courier New',monospace\"><span style=\"font-weight: bold\"> Trainable params: </span><span style=\"color: #00af00; text-decoration-color: #00af00\">200,898,385</span> (766.37 MB)\n",
              "</pre>\n"
            ]
          },
          "metadata": {}
        },
        {
          "output_type": "display_data",
          "data": {
            "text/plain": [
              "\u001b[1m Non-trainable params: \u001b[0m\u001b[38;5;34m0\u001b[0m (0.00 B)\n"
            ],
            "text/html": [
              "<pre style=\"white-space:pre;overflow-x:auto;line-height:normal;font-family:Menlo,'DejaVu Sans Mono',consolas,'Courier New',monospace\"><span style=\"font-weight: bold\"> Non-trainable params: </span><span style=\"color: #00af00; text-decoration-color: #00af00\">0</span> (0.00 B)\n",
              "</pre>\n"
            ]
          },
          "metadata": {}
        }
      ]
    }
  ]
}